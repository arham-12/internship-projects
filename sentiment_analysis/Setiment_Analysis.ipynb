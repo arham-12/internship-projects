{
  "nbformat": 4,
  "nbformat_minor": 0,
  "metadata": {
    "colab": {
      "provenance": [],
      "gpuType": "T4"
    },
    "kernelspec": {
      "name": "python3",
      "display_name": "Python 3"
    },
    "language_info": {
      "name": "python"
    },
    "accelerator": "GPU"
  },
  "cells": [
    {
      "cell_type": "code",
      "execution_count": 1,
      "metadata": {
        "colab": {
          "base_uri": "https://localhost:8080/"
        },
        "id": "SkX-bAkeRRJd",
        "outputId": "27cbd37f-327c-4aa7-c38e-19fc866bd53d"
      },
      "outputs": [
        {
          "output_type": "stream",
          "name": "stdout",
          "text": [
            "Requirement already satisfied: tensorflow in /usr/local/lib/python3.10/dist-packages (2.15.0)\n",
            "Requirement already satisfied: absl-py>=1.0.0 in /usr/local/lib/python3.10/dist-packages (from tensorflow) (1.4.0)\n",
            "Requirement already satisfied: astunparse>=1.6.0 in /usr/local/lib/python3.10/dist-packages (from tensorflow) (1.6.3)\n",
            "Requirement already satisfied: flatbuffers>=23.5.26 in /usr/local/lib/python3.10/dist-packages (from tensorflow) (24.3.25)\n",
            "Requirement already satisfied: gast!=0.5.0,!=0.5.1,!=0.5.2,>=0.2.1 in /usr/local/lib/python3.10/dist-packages (from tensorflow) (0.5.4)\n",
            "Requirement already satisfied: google-pasta>=0.1.1 in /usr/local/lib/python3.10/dist-packages (from tensorflow) (0.2.0)\n",
            "Requirement already satisfied: h5py>=2.9.0 in /usr/local/lib/python3.10/dist-packages (from tensorflow) (3.9.0)\n",
            "Requirement already satisfied: libclang>=13.0.0 in /usr/local/lib/python3.10/dist-packages (from tensorflow) (18.1.1)\n",
            "Requirement already satisfied: ml-dtypes~=0.2.0 in /usr/local/lib/python3.10/dist-packages (from tensorflow) (0.2.0)\n",
            "Requirement already satisfied: numpy<2.0.0,>=1.23.5 in /usr/local/lib/python3.10/dist-packages (from tensorflow) (1.25.2)\n",
            "Requirement already satisfied: opt-einsum>=2.3.2 in /usr/local/lib/python3.10/dist-packages (from tensorflow) (3.3.0)\n",
            "Requirement already satisfied: packaging in /usr/local/lib/python3.10/dist-packages (from tensorflow) (24.1)\n",
            "Requirement already satisfied: protobuf!=4.21.0,!=4.21.1,!=4.21.2,!=4.21.3,!=4.21.4,!=4.21.5,<5.0.0dev,>=3.20.3 in /usr/local/lib/python3.10/dist-packages (from tensorflow) (3.20.3)\n",
            "Requirement already satisfied: setuptools in /usr/local/lib/python3.10/dist-packages (from tensorflow) (67.7.2)\n",
            "Requirement already satisfied: six>=1.12.0 in /usr/local/lib/python3.10/dist-packages (from tensorflow) (1.16.0)\n",
            "Requirement already satisfied: termcolor>=1.1.0 in /usr/local/lib/python3.10/dist-packages (from tensorflow) (2.4.0)\n",
            "Requirement already satisfied: typing-extensions>=3.6.6 in /usr/local/lib/python3.10/dist-packages (from tensorflow) (4.12.2)\n",
            "Requirement already satisfied: wrapt<1.15,>=1.11.0 in /usr/local/lib/python3.10/dist-packages (from tensorflow) (1.14.1)\n",
            "Requirement already satisfied: tensorflow-io-gcs-filesystem>=0.23.1 in /usr/local/lib/python3.10/dist-packages (from tensorflow) (0.37.0)\n",
            "Requirement already satisfied: grpcio<2.0,>=1.24.3 in /usr/local/lib/python3.10/dist-packages (from tensorflow) (1.64.1)\n",
            "Requirement already satisfied: tensorboard<2.16,>=2.15 in /usr/local/lib/python3.10/dist-packages (from tensorflow) (2.15.2)\n",
            "Requirement already satisfied: tensorflow-estimator<2.16,>=2.15.0 in /usr/local/lib/python3.10/dist-packages (from tensorflow) (2.15.0)\n",
            "Requirement already satisfied: keras<2.16,>=2.15.0 in /usr/local/lib/python3.10/dist-packages (from tensorflow) (2.15.0)\n",
            "Requirement already satisfied: wheel<1.0,>=0.23.0 in /usr/local/lib/python3.10/dist-packages (from astunparse>=1.6.0->tensorflow) (0.43.0)\n",
            "Requirement already satisfied: google-auth<3,>=1.6.3 in /usr/local/lib/python3.10/dist-packages (from tensorboard<2.16,>=2.15->tensorflow) (2.27.0)\n",
            "Requirement already satisfied: google-auth-oauthlib<2,>=0.5 in /usr/local/lib/python3.10/dist-packages (from tensorboard<2.16,>=2.15->tensorflow) (1.2.0)\n",
            "Requirement already satisfied: markdown>=2.6.8 in /usr/local/lib/python3.10/dist-packages (from tensorboard<2.16,>=2.15->tensorflow) (3.6)\n",
            "Requirement already satisfied: requests<3,>=2.21.0 in /usr/local/lib/python3.10/dist-packages (from tensorboard<2.16,>=2.15->tensorflow) (2.31.0)\n",
            "Requirement already satisfied: tensorboard-data-server<0.8.0,>=0.7.0 in /usr/local/lib/python3.10/dist-packages (from tensorboard<2.16,>=2.15->tensorflow) (0.7.2)\n",
            "Requirement already satisfied: werkzeug>=1.0.1 in /usr/local/lib/python3.10/dist-packages (from tensorboard<2.16,>=2.15->tensorflow) (3.0.3)\n",
            "Requirement already satisfied: cachetools<6.0,>=2.0.0 in /usr/local/lib/python3.10/dist-packages (from google-auth<3,>=1.6.3->tensorboard<2.16,>=2.15->tensorflow) (5.3.3)\n",
            "Requirement already satisfied: pyasn1-modules>=0.2.1 in /usr/local/lib/python3.10/dist-packages (from google-auth<3,>=1.6.3->tensorboard<2.16,>=2.15->tensorflow) (0.4.0)\n",
            "Requirement already satisfied: rsa<5,>=3.1.4 in /usr/local/lib/python3.10/dist-packages (from google-auth<3,>=1.6.3->tensorboard<2.16,>=2.15->tensorflow) (4.9)\n",
            "Requirement already satisfied: requests-oauthlib>=0.7.0 in /usr/local/lib/python3.10/dist-packages (from google-auth-oauthlib<2,>=0.5->tensorboard<2.16,>=2.15->tensorflow) (1.3.1)\n",
            "Requirement already satisfied: charset-normalizer<4,>=2 in /usr/local/lib/python3.10/dist-packages (from requests<3,>=2.21.0->tensorboard<2.16,>=2.15->tensorflow) (3.3.2)\n",
            "Requirement already satisfied: idna<4,>=2.5 in /usr/local/lib/python3.10/dist-packages (from requests<3,>=2.21.0->tensorboard<2.16,>=2.15->tensorflow) (3.7)\n",
            "Requirement already satisfied: urllib3<3,>=1.21.1 in /usr/local/lib/python3.10/dist-packages (from requests<3,>=2.21.0->tensorboard<2.16,>=2.15->tensorflow) (2.0.7)\n",
            "Requirement already satisfied: certifi>=2017.4.17 in /usr/local/lib/python3.10/dist-packages (from requests<3,>=2.21.0->tensorboard<2.16,>=2.15->tensorflow) (2024.6.2)\n",
            "Requirement already satisfied: MarkupSafe>=2.1.1 in /usr/local/lib/python3.10/dist-packages (from werkzeug>=1.0.1->tensorboard<2.16,>=2.15->tensorflow) (2.1.5)\n",
            "Requirement already satisfied: pyasn1<0.7.0,>=0.4.6 in /usr/local/lib/python3.10/dist-packages (from pyasn1-modules>=0.2.1->google-auth<3,>=1.6.3->tensorboard<2.16,>=2.15->tensorflow) (0.6.0)\n",
            "Requirement already satisfied: oauthlib>=3.0.0 in /usr/local/lib/python3.10/dist-packages (from requests-oauthlib>=0.7.0->google-auth-oauthlib<2,>=0.5->tensorboard<2.16,>=2.15->tensorflow) (3.2.2)\n",
            "Requirement already satisfied: nltk in /usr/local/lib/python3.10/dist-packages (3.8.1)\n",
            "Requirement already satisfied: click in /usr/local/lib/python3.10/dist-packages (from nltk) (8.1.7)\n",
            "Requirement already satisfied: joblib in /usr/local/lib/python3.10/dist-packages (from nltk) (1.4.2)\n",
            "Requirement already satisfied: regex>=2021.8.3 in /usr/local/lib/python3.10/dist-packages (from nltk) (2024.5.15)\n",
            "Requirement already satisfied: tqdm in /usr/local/lib/python3.10/dist-packages (from nltk) (4.66.4)\n",
            "Requirement already satisfied: numpy in /usr/local/lib/python3.10/dist-packages (1.25.2)\n",
            "Requirement already satisfied: nltk in /usr/local/lib/python3.10/dist-packages (3.8.1)\n",
            "Requirement already satisfied: click in /usr/local/lib/python3.10/dist-packages (from nltk) (8.1.7)\n",
            "Requirement already satisfied: joblib in /usr/local/lib/python3.10/dist-packages (from nltk) (1.4.2)\n",
            "Requirement already satisfied: regex>=2021.8.3 in /usr/local/lib/python3.10/dist-packages (from nltk) (2024.5.15)\n",
            "Requirement already satisfied: tqdm in /usr/local/lib/python3.10/dist-packages (from nltk) (4.66.4)\n"
          ]
        }
      ],
      "source": [
        "!pip install tensorflow\n",
        "!pip install nltk\n",
        "!pip install numpy\n",
        "!pip install --upgrade nltk"
      ]
    },
    {
      "cell_type": "code",
      "source": [
        "import numpy as np\n",
        "import tensorflow as tf\n",
        "from keras.datasets import imdb\n",
        "from keras.preprocessing.sequence import pad_sequences\n",
        "from keras.models import Sequential\n",
        "from keras.layers import Embedding, LSTM, Dense, Dropout,Bidirectional\n",
        "from keras.callbacks import EarlyStopping\n",
        "from keras.regularizers import l2\n",
        "import nltk\n",
        "from nltk.corpus import stopwords\n",
        "from nltk.tokenize import word_tokenize\n",
        "import re\n",
        "nltk.download('stopwords')\n",
        "nltk.download('punkt')"
      ],
      "metadata": {
        "colab": {
          "base_uri": "https://localhost:8080/"
        },
        "id": "xdkrhpT1Ri7u",
        "outputId": "c6d5d9e3-0a68-47d5-b1b0-ccbc8eac9f2b"
      },
      "execution_count": 35,
      "outputs": [
        {
          "output_type": "stream",
          "name": "stderr",
          "text": [
            "[nltk_data] Downloading package stopwords to /root/nltk_data...\n",
            "[nltk_data]   Package stopwords is already up-to-date!\n",
            "[nltk_data] Downloading package punkt to /root/nltk_data...\n",
            "[nltk_data]   Package punkt is already up-to-date!\n"
          ]
        },
        {
          "output_type": "execute_result",
          "data": {
            "text/plain": [
              "True"
            ]
          },
          "metadata": {},
          "execution_count": 35
        }
      ]
    },
    {
      "cell_type": "code",
      "source": [
        "(x_train, y_train), (x_test, y_test) = imdb.load_data(num_words=10000)\n",
        "# see the data\n",
        "print(\"Number of training examples:\", len(x_train))\n",
        "print(\"Number of testing examples:\", len(x_test))\n",
        "print(x_train[0])\n",
        "\n",
        "\n",
        "# Get the word index dictionary\n",
        "word_index = imdb.get_word_index()\n",
        "# Calculate the number of unique words\n",
        "num_unique_words = len(word_index)\n",
        "print(f'Total number of unique words in the IMDb dataset: {num_unique_words}')"
      ],
      "metadata": {
        "colab": {
          "base_uri": "https://localhost:8080/"
        },
        "id": "QPaHp3xJRrYW",
        "outputId": "4a5fc808-a791-4993-b03c-0385505aa40a"
      },
      "execution_count": 56,
      "outputs": [
        {
          "output_type": "stream",
          "name": "stdout",
          "text": [
            "Number of training examples: 25000\n",
            "Number of testing examples: 25000\n",
            "[1, 14, 22, 16, 43, 530, 973, 1622, 1385, 65, 458, 4468, 66, 3941, 4, 173, 36, 256, 5, 25, 100, 43, 838, 112, 50, 670, 2, 9, 35, 480, 284, 5, 150, 4, 172, 112, 167, 2, 336, 385, 39, 4, 172, 4536, 1111, 17, 546, 38, 13, 447, 4, 192, 50, 16, 6, 147, 2025, 19, 14, 22, 4, 1920, 4613, 469, 4, 22, 71, 87, 12, 16, 43, 530, 38, 76, 15, 13, 1247, 4, 22, 17, 515, 17, 12, 16, 626, 18, 2, 5, 62, 386, 12, 8, 316, 8, 106, 5, 4, 2223, 5244, 16, 480, 66, 3785, 33, 4, 130, 12, 16, 38, 619, 5, 25, 124, 51, 36, 135, 48, 25, 1415, 33, 6, 22, 12, 215, 28, 77, 52, 5, 14, 407, 16, 82, 2, 8, 4, 107, 117, 5952, 15, 256, 4, 2, 7, 3766, 5, 723, 36, 71, 43, 530, 476, 26, 400, 317, 46, 7, 4, 2, 1029, 13, 104, 88, 4, 381, 15, 297, 98, 32, 2071, 56, 26, 141, 6, 194, 7486, 18, 4, 226, 22, 21, 134, 476, 26, 480, 5, 144, 30, 5535, 18, 51, 36, 28, 224, 92, 25, 104, 4, 226, 65, 16, 38, 1334, 88, 12, 16, 283, 5, 16, 4472, 113, 103, 32, 15, 16, 5345, 19, 178, 32]\n",
            "Total number of unique words in the IMDb dataset: 88584\n"
          ]
        }
      ]
    },
    {
      "cell_type": "code",
      "source": [
        "# Find the maximum length of a review in the training set\n",
        "max_len_train = max(len(review) for review in x_train)\n",
        "max_len_test = max(len(review) for review in x_test)\n",
        "\n",
        "# Find the overall maximum length\n",
        "max_len = max(max_len_train, max_len_test)\n",
        "\n",
        "print(f'Maximum length of a review in the training set: {max_len_train}')\n",
        "print(f'Maximum length of a review in the testing set: {max_len_test}')\n",
        "print(f'Overall maximum length: {max_len}')"
      ],
      "metadata": {
        "colab": {
          "base_uri": "https://localhost:8080/"
        },
        "id": "RLZK9mi3Rz61",
        "outputId": "c503ffb3-7932-4d2e-a3c1-4ef97aa8a4ac"
      },
      "execution_count": 4,
      "outputs": [
        {
          "output_type": "stream",
          "name": "stdout",
          "text": [
            "Maximum length of a review in the training set: 2494\n",
            "Maximum length of a review in the testing set: 2315\n",
            "Overall maximum length: 2494\n"
          ]
        }
      ]
    },
    {
      "cell_type": "code",
      "source": [
        "import matplotlib.pyplot as plt\n",
        "\n",
        "# Get lengths of all reviews\n",
        "train_lengths = [len(review) for review in x_train]\n",
        "test_lengths = [len(review) for review in x_test]\n",
        "\n",
        "# Plot the distribution of review lengths\n",
        "plt.hist(train_lengths, bins=50, alpha=0.5, label='train')\n",
        "plt.hist(test_lengths, bins=50, alpha=0.5, label='test')\n",
        "plt.xlabel('Review Length')\n",
        "plt.ylabel('Frequency')\n",
        "plt.legend(loc='upper right')\n",
        "plt.show()"
      ],
      "metadata": {
        "colab": {
          "base_uri": "https://localhost:8080/",
          "height": 449
        },
        "id": "WEqcnk2RR1vO",
        "outputId": "3a27abd2-8a5b-40de-b962-5c69ec5c4299"
      },
      "execution_count": 5,
      "outputs": [
        {
          "output_type": "display_data",
          "data": {
            "text/plain": [
              "<Figure size 640x480 with 1 Axes>"
            ],
            "image/png": "[encoded data removed]"
          },
          "metadata": {}
        }
      ]
    },
    {
      "cell_type": "code",
      "source": [
        "# i set maximun padding length is 250 because the maximum reviews lies in 250 words\n",
        "max_len = 250\n",
        "\n",
        "# Pad sequences to ensure all reviews are the same length\n",
        "x_train = pad_sequences(x_train, maxlen=max_len)\n",
        "x_test = pad_sequences(x_test, maxlen=max_len)"
      ],
      "metadata": {
        "id": "cwb3AIA0R_Lm"
      },
      "execution_count": 6,
      "outputs": []
    },
    {
      "cell_type": "code",
      "source": [
        "# Build the model\n",
        "model = Sequential()\n",
        "model.add(Embedding(input_dim=10000, output_dim=128, input_length=max_len))\n",
        "model.add(LSTM(units=128, return_sequences=True, kernel_regularizer=l2(0.01)))  # Added L2 regularization\n",
        "model.add(Dropout(0.3))  # Increased dropout\n",
        "model.add(LSTM(units=128, kernel_regularizer=l2(0.01)))  # Added L2 regularization # Increased dropout\n",
        "model.add(Dense(units=1, activation='sigmoid', kernel_regularizer=l2(0.01)))  # Added L2 regularization\n",
        "\n",
        "# Compile the model\n",
        "model.compile(optimizer='adam', loss='binary_crossentropy', metrics=['accuracy'])\n",
        "model.summary()"
      ],
      "metadata": {
        "colab": {
          "base_uri": "https://localhost:8080/"
        },
        "id": "Sk1AtNakSHbD",
        "outputId": "9cf1fb22-d9d2-44a0-aeda-357b932490ec"
      },
      "execution_count": 52,
      "outputs": [
        {
          "output_type": "stream",
          "name": "stdout",
          "text": [
            "Model: \"sequential_12\"\n",
            "_________________________________________________________________\n",
            " Layer (type)                Output Shape              Param #   \n",
            "=================================================================\n",
            " embedding_12 (Embedding)    (None, 250, 128)          1280000   \n",
            "                                                                 \n",
            " lstm_18 (LSTM)              (None, 250, 128)          131584    \n",
            "                                                                 \n",
            " dropout_7 (Dropout)         (None, 250, 128)          0         \n",
            "                                                                 \n",
            " lstm_19 (LSTM)              (None, 128)               131584    \n",
            "                                                                 \n",
            " dense_12 (Dense)            (None, 1)                 129       \n",
            "                                                                 \n",
            "=================================================================\n",
            "Total params: 1543297 (5.89 MB)\n",
            "Trainable params: 1543297 (5.89 MB)\n",
            "Non-trainable params: 0 (0.00 Byte)\n",
            "_________________________________________________________________\n"
          ]
        }
      ]
    },
    {
      "cell_type": "code",
      "source": [
        "# Train the model\n",
        "batch_size = 64\n",
        "epochs = 20\n",
        "\n",
        "history = model.fit(x_train, y_train, batch_size=64, epochs=15, validation_split=0.2)"
      ],
      "metadata": {
        "colab": {
          "base_uri": "https://localhost:8080/"
        },
        "id": "LJ7l131YSNhw",
        "outputId": "9f332563-7a70-4ab5-ead9-ad6e00110c38"
      },
      "execution_count": 53,
      "outputs": [
        {
          "output_type": "stream",
          "name": "stdout",
          "text": [
            "Epoch 1/15\n",
            "313/313 [==============================] - 35s 100ms/step - loss: 0.8939 - accuracy: 0.7519 - val_loss: 0.5385 - val_accuracy: 0.8018\n",
            "Epoch 2/15\n",
            "313/313 [==============================] - 17s 54ms/step - loss: 0.3513 - accuracy: 0.8773 - val_loss: 0.3703 - val_accuracy: 0.8682\n",
            "Epoch 3/15\n",
            "313/313 [==============================] - 13s 40ms/step - loss: 0.2749 - accuracy: 0.9104 - val_loss: 0.3853 - val_accuracy: 0.8576\n",
            "Epoch 4/15\n",
            "313/313 [==============================] - 10s 33ms/step - loss: 0.2318 - accuracy: 0.9268 - val_loss: 0.4068 - val_accuracy: 0.8384\n",
            "Epoch 5/15\n",
            "313/313 [==============================] - 10s 32ms/step - loss: 0.2110 - accuracy: 0.9334 - val_loss: 0.4226 - val_accuracy: 0.8430\n",
            "Epoch 6/15\n",
            "313/313 [==============================] - 9s 30ms/step - loss: 0.1802 - accuracy: 0.9472 - val_loss: 0.4183 - val_accuracy: 0.8584\n",
            "Epoch 7/15\n",
            "313/313 [==============================] - 10s 31ms/step - loss: 0.1666 - accuracy: 0.9521 - val_loss: 0.4197 - val_accuracy: 0.8474\n",
            "Epoch 8/15\n",
            "313/313 [==============================] - 9s 28ms/step - loss: 0.1561 - accuracy: 0.9564 - val_loss: 0.5300 - val_accuracy: 0.8480\n",
            "Epoch 9/15\n",
            "313/313 [==============================] - 8s 27ms/step - loss: 0.1403 - accuracy: 0.9617 - val_loss: 0.4800 - val_accuracy: 0.8438\n",
            "Epoch 10/15\n",
            "313/313 [==============================] - 10s 31ms/step - loss: 0.1192 - accuracy: 0.9700 - val_loss: 0.5098 - val_accuracy: 0.8460\n",
            "Epoch 11/15\n",
            "313/313 [==============================] - 9s 29ms/step - loss: 0.1443 - accuracy: 0.9610 - val_loss: 0.4971 - val_accuracy: 0.8346\n",
            "Epoch 12/15\n",
            "313/313 [==============================] - 9s 28ms/step - loss: 0.2212 - accuracy: 0.9351 - val_loss: 0.5271 - val_accuracy: 0.8248\n",
            "Epoch 13/15\n",
            "313/313 [==============================] - 9s 28ms/step - loss: 0.3850 - accuracy: 0.8881 - val_loss: 0.4931 - val_accuracy: 0.8318\n",
            "Epoch 14/15\n",
            "313/313 [==============================] - 9s 29ms/step - loss: 0.1507 - accuracy: 0.9622 - val_loss: 0.5020 - val_accuracy: 0.8478\n",
            "Epoch 15/15\n",
            "313/313 [==============================] - 9s 30ms/step - loss: 0.1124 - accuracy: 0.9723 - val_loss: 0.5242 - val_accuracy: 0.8488\n"
          ]
        }
      ]
    },
    {
      "cell_type": "code",
      "source": [
        "# Evaluate the model\n",
        "loss, accuracy = model.evaluate(x_test, y_test)\n",
        "print(f'Test Accuracy: {accuracy:.2f}')\n"
      ],
      "metadata": {
        "colab": {
          "base_uri": "https://localhost:8080/"
        },
        "id": "u9prTQnBSv2j",
        "outputId": "c16b3c8b-6480-427d-d8a5-368c88a1743a"
      },
      "execution_count": 55,
      "outputs": [
        {
          "output_type": "stream",
          "name": "stdout",
          "text": [
            "782/782 [==============================] - 7s 9ms/step - loss: 0.5742 - accuracy: 0.8306\n",
            "Test Accuracy: 0.83\n"
          ]
        }
      ]
    },
    {
      "cell_type": "code",
      "source": [
        "# Function to preprocess and predict sentiment of new reviews\n",
        "def predict_sentiment(review):\n",
        "    review = re.sub(r'<[^>]+>', '', review)\n",
        "    review = re.sub(r'[^a-zA-Z\\s]', '', review)\n",
        "    review = review.lower()\n",
        "    tokens = word_tokenize(review)\n",
        "    filtered_tokens = [word for word in tokens if word not in stopwords.words('english')]\n",
        "    sequence = [imdb.get_word_index().get(word, 0) for word in filtered_tokens]\n",
        "    padded_sequence = pad_sequences([sequence], maxlen=max_len)\n",
        "    prediction = model.predict(padded_sequence)\n",
        "    return 'Positive' if prediction[0][0] > 0.5 else 'Negative'\n",
        "\n",
        "# Making prediction\n",
        "sample = \"i love video games this video game is awsome\"\n",
        "\n",
        "sentiment = predict_sentiment(sample)\n",
        "print(sentiment)"
      ],
      "metadata": {
        "colab": {
          "base_uri": "https://localhost:8080/"
        },
        "id": "Nxv1rvK-SxPH",
        "outputId": "d80e235c-c072-4b50-d8c1-b511f79145fd"
      },
      "execution_count": 54,
      "outputs": [
        {
          "output_type": "stream",
          "name": "stdout",
          "text": [
            "1/1 [==============================] - 1s 815ms/step\n",
            "Positive\n"
          ]
        }
      ]
    }
  ]
}